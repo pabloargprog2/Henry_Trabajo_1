{
 "cells": [
  {
   "cell_type": "code",
   "execution_count": 1,
   "metadata": {},
   "outputs": [],
   "source": [
    "import pandas as pd"
   ]
  },
  {
   "cell_type": "code",
   "execution_count": 24,
   "metadata": {},
   "outputs": [],
   "source": [
    "dataset_credits = pd.read_csv(\"./credits_dataset_final.csv\")"
   ]
  },
  {
   "cell_type": "code",
   "execution_count": 25,
   "metadata": {},
   "outputs": [
    {
     "name": "stdout",
     "output_type": "stream",
     "text": [
      "<class 'pandas.core.frame.DataFrame'>\n",
      "RangeIndex: 45476 entries, 0 to 45475\n",
      "Data columns (total 3 columns):\n",
      " #   Column         Non-Null Count  Dtype \n",
      "---  ------         --------------  ----- \n",
      " 0   id             45476 non-null  int64 \n",
      " 1   actor_names    43058 non-null  object\n",
      " 2   director_name  44589 non-null  object\n",
      "dtypes: int64(1), object(2)\n",
      "memory usage: 1.0+ MB\n",
      "None\n"
     ]
    }
   ],
   "source": [
    "print(dataset_credits.info())"
   ]
  },
  {
   "cell_type": "code",
   "execution_count": 26,
   "metadata": {},
   "outputs": [
    {
     "name": "stderr",
     "output_type": "stream",
     "text": [
      "C:\\Users\\User\\AppData\\Local\\Temp\\ipykernel_8720\\4097163755.py:1: DtypeWarning: Columns (4) have mixed types. Specify dtype option on import or set low_memory=False.\n",
      "  df = pd.read_csv(\"./dataset_final_movies.csv\")\n"
     ]
    }
   ],
   "source": [
    "df = pd.read_csv(\"./movies_dataset_final.csv\")"
   ]
  },
  {
   "cell_type": "code",
   "execution_count": 27,
   "metadata": {},
   "outputs": [
    {
     "name": "stdout",
     "output_type": "stream",
     "text": [
      "<class 'pandas.core.frame.DataFrame'>\n",
      "RangeIndex: 45379 entries, 0 to 45378\n",
      "Data columns (total 21 columns):\n",
      " #   Column                    Non-Null Count  Dtype  \n",
      "---  ------                    --------------  -----  \n",
      " 0   budget                    45379 non-null  float64\n",
      " 1   id                        45379 non-null  object \n",
      " 2   original_language         45368 non-null  object \n",
      " 3   overview                  44438 non-null  object \n",
      " 4   popularity                45377 non-null  object \n",
      " 5   production_countries      45379 non-null  object \n",
      " 6   release_date              45376 non-null  object \n",
      " 7   revenue                   45379 non-null  float64\n",
      " 8   runtime                   45130 non-null  float64\n",
      " 9   spoken_languages          45376 non-null  object \n",
      " 10  status                    45296 non-null  object \n",
      " 11  tagline                   20398 non-null  object \n",
      " 12  title                     45376 non-null  object \n",
      " 13  vote_average              45376 non-null  float64\n",
      " 14  vote_count                45376 non-null  float64\n",
      " 15  return                    45379 non-null  float64\n",
      " 16  release_year              45376 non-null  float64\n",
      " 17  collection_id             4488 non-null   float64\n",
      " 18  collection_name           4488 non-null   object \n",
      " 19  production_company_names  45376 non-null  object \n",
      " 20  genre_names               45379 non-null  object \n",
      "dtypes: float64(8), object(13)\n",
      "memory usage: 7.3+ MB\n",
      "None\n"
     ]
    }
   ],
   "source": [
    "print(df.info())"
   ]
  },
  {
   "cell_type": "code",
   "execution_count": 39,
   "metadata": {},
   "outputs": [
    {
     "name": "stdout",
     "output_type": "stream",
     "text": [
      "Columnas en credits_dataset: Index(['id', 'actor_names', 'director_name'], dtype='object')\n",
      "Columnas en dataset_movies: Index(['budget', 'id', 'original_language', 'overview', 'popularity',\n",
      "       'production_countries', 'release_date', 'revenue', 'runtime',\n",
      "       'spoken_languages', 'status', 'tagline', 'title', 'vote_average',\n",
      "       'vote_count', 'return', 'release_year', 'collection_id',\n",
      "       'collection_name', 'production_company_names', 'genre_names'],\n",
      "      dtype='object')\n"
     ]
    }
   ],
   "source": [
    "print(\"Columnas en credits_dataset:\", dataset_credits.columns)\n",
    "print(\"Columnas en dataset_movies:\", df.columns)"
   ]
  },
  {
   "cell_type": "code",
   "execution_count": 44,
   "metadata": {},
   "outputs": [],
   "source": [
    "merged_dataset = pd.merge(df, dataset_credits, on=\"id\", how=\"inner\")"
   ]
  },
  {
   "cell_type": "code",
   "execution_count": 45,
   "metadata": {},
   "outputs": [
    {
     "name": "stdout",
     "output_type": "stream",
     "text": [
      "<class 'pandas.core.frame.DataFrame'>\n",
      "RangeIndex: 45451 entries, 0 to 45450\n",
      "Data columns (total 23 columns):\n",
      " #   Column                    Non-Null Count  Dtype  \n",
      "---  ------                    --------------  -----  \n",
      " 0   budget                    45451 non-null  float64\n",
      " 1   id                        45451 non-null  object \n",
      " 2   original_language         45440 non-null  object \n",
      " 3   overview                  44510 non-null  object \n",
      " 4   popularity                45451 non-null  float64\n",
      " 5   production_countries      45451 non-null  object \n",
      " 6   release_date              45451 non-null  object \n",
      " 7   revenue                   45451 non-null  float64\n",
      " 8   runtime                   45205 non-null  float64\n",
      " 9   spoken_languages          45451 non-null  object \n",
      " 10  status                    45371 non-null  object \n",
      " 11  tagline                   20425 non-null  object \n",
      " 12  title                     45451 non-null  object \n",
      " 13  vote_average              45451 non-null  float64\n",
      " 14  vote_count                45451 non-null  float64\n",
      " 15  return                    45451 non-null  float64\n",
      " 16  release_year              45451 non-null  float64\n",
      " 17  collection_id             4497 non-null   float64\n",
      " 18  collection_name           4497 non-null   object \n",
      " 19  production_company_names  45451 non-null  object \n",
      " 20  genre_names               45451 non-null  object \n",
      " 21  actor_names               43097 non-null  object \n",
      " 22  director_name             44616 non-null  object \n",
      "dtypes: float64(9), object(14)\n",
      "memory usage: 8.0+ MB\n",
      "None\n"
     ]
    }
   ],
   "source": [
    "print(merged_dataset.info())"
   ]
  },
  {
   "cell_type": "code",
   "execution_count": 47,
   "metadata": {},
   "outputs": [
    {
     "name": "stdout",
     "output_type": "stream",
     "text": [
      "Dataset combinado guardado como 'dataset.csv'.\n"
     ]
    }
   ],
   "source": [
    "merged_dataset.to_csv(\"./dataset.csv\", index=False)\n",
    "print(\"Dataset combinado guardado como 'dataset.csv'.\")"
   ]
  },
  {
   "cell_type": "code",
   "execution_count": 2,
   "metadata": {},
   "outputs": [],
   "source": [
    "dataset= pd.read_csv(\"./dataset.csv\")"
   ]
  },
  {
   "cell_type": "code",
   "execution_count": 3,
   "metadata": {},
   "outputs": [
    {
     "name": "stdout",
     "output_type": "stream",
     "text": [
      "<class 'pandas.core.frame.DataFrame'>\n",
      "RangeIndex: 45451 entries, 0 to 45450\n",
      "Data columns (total 23 columns):\n",
      " #   Column                    Non-Null Count  Dtype  \n",
      "---  ------                    --------------  -----  \n",
      " 0   budget                    45451 non-null  float64\n",
      " 1   id                        45451 non-null  int64  \n",
      " 2   original_language         45440 non-null  object \n",
      " 3   overview                  44510 non-null  object \n",
      " 4   popularity                45451 non-null  float64\n",
      " 5   production_countries      45451 non-null  object \n",
      " 6   release_date              45451 non-null  object \n",
      " 7   revenue                   45451 non-null  float64\n",
      " 8   runtime                   45205 non-null  float64\n",
      " 9   spoken_languages          45451 non-null  object \n",
      " 10  status                    45371 non-null  object \n",
      " 11  tagline                   20425 non-null  object \n",
      " 12  title                     45451 non-null  object \n",
      " 13  vote_average              45451 non-null  float64\n",
      " 14  vote_count                45451 non-null  float64\n",
      " 15  return                    45451 non-null  float64\n",
      " 16  release_year              45451 non-null  float64\n",
      " 17  collection_id             4497 non-null   float64\n",
      " 18  collection_name           4497 non-null   object \n",
      " 19  production_company_names  45451 non-null  object \n",
      " 20  genre_names               45451 non-null  object \n",
      " 21  actor_names               43097 non-null  object \n",
      " 22  director_name             44616 non-null  object \n",
      "dtypes: float64(9), int64(1), object(13)\n",
      "memory usage: 8.0+ MB\n",
      "None\n"
     ]
    }
   ],
   "source": [
    "print(dataset.info())"
   ]
  },
  {
   "cell_type": "code",
   "execution_count": 51,
   "metadata": {},
   "outputs": [
    {
     "name": "stdout",
     "output_type": "stream",
     "text": [
      "Index(['budget', 'id', 'original_language', 'overview', 'popularity',\n",
      "       'production_countries', 'release_date', 'revenue', 'runtime',\n",
      "       'spoken_languages', 'status', 'tagline', 'title', 'vote_average',\n",
      "       'vote_count', 'return', 'release_year', 'collection_id',\n",
      "       'collection_name', 'production_company_names', 'genre_names',\n",
      "       'actor_names', 'director_name'],\n",
      "      dtype='object')\n"
     ]
    }
   ],
   "source": [
    "print(dataset.columns)"
   ]
  },
  {
   "cell_type": "code",
   "execution_count": 6,
   "metadata": {},
   "outputs": [],
   "source": [
    "# Eliminar columnas específicas\n",
    "columnas_a_eliminar = [\"original_language\", \"production_countries\", \"runtime\", \"spoken_languages\", \"status\", \"tagline\", \"collection_id\",\"collection_name\", \"production_company_names\"]\n",
    "dataset_final = dataset.drop(columns=columnas_a_eliminar)\n",
    "\n",
    "# Guardar el nuevo dataset en un archivo CSV\n",
    "dataset_final.to_csv('dataset_final.csv', index=False)"
   ]
  },
  {
   "cell_type": "code",
   "execution_count": 7,
   "metadata": {},
   "outputs": [
    {
     "name": "stdout",
     "output_type": "stream",
     "text": [
      "<class 'pandas.core.frame.DataFrame'>\n",
      "RangeIndex: 45451 entries, 0 to 45450\n",
      "Data columns (total 14 columns):\n",
      " #   Column         Non-Null Count  Dtype  \n",
      "---  ------         --------------  -----  \n",
      " 0   budget         45451 non-null  float64\n",
      " 1   id             45451 non-null  int64  \n",
      " 2   overview       44510 non-null  object \n",
      " 3   popularity     45451 non-null  float64\n",
      " 4   release_date   45451 non-null  object \n",
      " 5   revenue        45451 non-null  float64\n",
      " 6   title          45451 non-null  object \n",
      " 7   vote_average   45451 non-null  float64\n",
      " 8   vote_count     45451 non-null  float64\n",
      " 9   return         45451 non-null  float64\n",
      " 10  release_year   45451 non-null  float64\n",
      " 11  genre_names    45451 non-null  object \n",
      " 12  actor_names    43097 non-null  object \n",
      " 13  director_name  44616 non-null  object \n",
      "dtypes: float64(7), int64(1), object(6)\n",
      "memory usage: 4.9+ MB\n",
      "None\n"
     ]
    }
   ],
   "source": [
    "print(dataset_final.info())"
   ]
  },
  {
   "cell_type": "code",
   "execution_count": 55,
   "metadata": {},
   "outputs": [],
   "source": [
    "columnas_seleccionadas = ['release_date', 'title', 'release_year', \"vote_average\", \"vote_count\"]\n",
    "dataset_funciones_basicas = dataset[columnas_seleccionadas]"
   ]
  },
  {
   "cell_type": "code",
   "execution_count": 56,
   "metadata": {},
   "outputs": [],
   "source": [
    "dataset_funciones_basicas.to_csv('dataset_funciones_basicas.csv', index=False)"
   ]
  },
  {
   "cell_type": "code",
   "execution_count": 58,
   "metadata": {},
   "outputs": [],
   "source": [
    "columnas_seleccionadass = ['id', 'title', 'return', \"actor_names\", \"director_name\", \"revenue\", \"budget\", \"release_date\"]\n",
    "dataset_actor_director = dataset_final[columnas_seleccionadass]"
   ]
  },
  {
   "cell_type": "code",
   "execution_count": 59,
   "metadata": {},
   "outputs": [],
   "source": [
    "dataset_actor_director.to_csv('dataset_actor_director.csv', index=False)"
   ]
  },
  {
   "cell_type": "code",
   "execution_count": 8,
   "metadata": {},
   "outputs": [],
   "source": [
    "columnas_seleccionadasss = ['vote_average', 'title', 'vote_count', \"popularity\", \"overview\", \"genre_names\"]\n",
    "dataset_modelo = dataset_final[columnas_seleccionadasss]"
   ]
  },
  {
   "cell_type": "code",
   "execution_count": 9,
   "metadata": {},
   "outputs": [],
   "source": [
    "dataset_modelo.to_csv('dataset_modelo.csv', index=False)"
   ]
  }
 ],
 "metadata": {
  "kernelspec": {
   "display_name": "Python 3",
   "language": "python",
   "name": "python3"
  },
  "language_info": {
   "codemirror_mode": {
    "name": "ipython",
    "version": 3
   },
   "file_extension": ".py",
   "mimetype": "text/x-python",
   "name": "python",
   "nbconvert_exporter": "python",
   "pygments_lexer": "ipython3",
   "version": "3.12.3"
  }
 },
 "nbformat": 4,
 "nbformat_minor": 2
}
