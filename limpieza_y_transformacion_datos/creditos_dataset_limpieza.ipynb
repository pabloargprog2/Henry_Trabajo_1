{
 "cells": [
  {
   "cell_type": "code",
   "execution_count": 7,
   "metadata": {},
   "outputs": [],
   "source": [
    "import pandas as pd\n",
    "import ast\n",
    "\n",
    "ruta_dataset = \"./credits.csv\"\n",
    "df = pd.read_csv(ruta_dataset)"
   ]
  },
  {
   "cell_type": "code",
   "execution_count": 8,
   "metadata": {},
   "outputs": [
    {
     "name": "stdout",
     "output_type": "stream",
     "text": [
      "                                                cast  \\\n",
      "0  [{'cast_id': 14, 'character': 'Woody (voice)',...   \n",
      "1  [{'cast_id': 1, 'character': 'Alan Parrish', '...   \n",
      "2  [{'cast_id': 2, 'character': 'Max Goldman', 'c...   \n",
      "3  [{'cast_id': 1, 'character': \"Savannah 'Vannah...   \n",
      "4  [{'cast_id': 1, 'character': 'George Banks', '...   \n",
      "\n",
      "                                                crew     id  \n",
      "0  [{'credit_id': '52fe4284c3a36847f8024f49', 'de...    862  \n",
      "1  [{'credit_id': '52fe44bfc3a36847f80a7cd1', 'de...   8844  \n",
      "2  [{'credit_id': '52fe466a9251416c75077a89', 'de...  15602  \n",
      "3  [{'credit_id': '52fe44779251416c91011acb', 'de...  31357  \n",
      "4  [{'credit_id': '52fe44959251416c75039ed7', 'de...  11862  \n"
     ]
    }
   ],
   "source": [
    "print(df.head())"
   ]
  },
  {
   "cell_type": "code",
   "execution_count": 11,
   "metadata": {},
   "outputs": [
    {
     "name": "stdout",
     "output_type": "stream",
     "text": [
      "<class 'pandas.core.frame.DataFrame'>\n",
      "RangeIndex: 45476 entries, 0 to 45475\n",
      "Data columns (total 5 columns):\n",
      " #   Column         Non-Null Count  Dtype \n",
      "---  ------         --------------  ----- \n",
      " 0   cast           45476 non-null  object\n",
      " 1   crew           45476 non-null  object\n",
      " 2   id             45476 non-null  int64 \n",
      " 3   actor_names    45476 non-null  object\n",
      " 4   director_name  44589 non-null  object\n",
      "dtypes: int64(1), object(4)\n",
      "memory usage: 1.7+ MB\n",
      "None\n"
     ]
    }
   ],
   "source": [
    "print(df.info())"
   ]
  },
  {
   "cell_type": "code",
   "execution_count": 10,
   "metadata": {},
   "outputs": [],
   "source": [
    "\n",
    "# Función para extraer nombres de los actores\n",
    "def get_actor_names(cast_column):\n",
    "    try:\n",
    "        cast_list = ast.literal_eval(cast_column)  # Convertir cadena JSON a lista\n",
    "        return \", \".join([member['name'] for member in cast_list if 'name' in member])\n",
    "    except (ValueError, SyntaxError):\n",
    "        return None\n",
    "\n",
    "# Función para extraer el nombre del director\n",
    "def get_director_name(crew_column):\n",
    "    try:\n",
    "        crew_list = ast.literal_eval(crew_column)  # Convertir cadena JSON a lista\n",
    "        for member in crew_list:\n",
    "            if member.get('job') == 'Director':\n",
    "                return member.get('name')\n",
    "        return None\n",
    "    except (ValueError, SyntaxError):\n",
    "        return None\n",
    "\n",
    "# Crear las nuevas columnas\n",
    "df['actor_names'] = df['cast'].apply(get_actor_names)\n",
    "df['director_name'] = df['crew'].apply(get_director_name)\n"
   ]
  },
  {
   "cell_type": "code",
   "execution_count": 12,
   "metadata": {},
   "outputs": [
    {
     "name": "stdout",
     "output_type": "stream",
     "text": [
      "Nuevo dataset creado y guardado como 'creditos_dataset.csv'\n"
     ]
    }
   ],
   "source": [
    "# Crear el nuevo dataset con las columnas deseadas\n",
    "new_df = df[['id', 'actor_names', 'director_name']]\n",
    "\n",
    "# Guardar el nuevo dataset a un archivo CSV\n",
    "new_df.to_csv(\"credits_dataset_final.csv\", index=False)\n",
    "\n",
    "print(\"Nuevo dataset creado y guardado como 'creditos_dataset_final.csv'\")\n"
   ]
  }
 ],
 "metadata": {
  "kernelspec": {
   "display_name": "Python 3",
   "language": "python",
   "name": "python3"
  },
  "language_info": {
   "codemirror_mode": {
    "name": "ipython",
    "version": 3
   },
   "file_extension": ".py",
   "mimetype": "text/x-python",
   "name": "python",
   "nbconvert_exporter": "python",
   "pygments_lexer": "ipython3",
   "version": "3.12.3"
  }
 },
 "nbformat": 4,
 "nbformat_minor": 2
}
