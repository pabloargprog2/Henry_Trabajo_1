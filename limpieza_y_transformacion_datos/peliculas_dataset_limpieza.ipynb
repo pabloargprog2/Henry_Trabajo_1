{
 "cells": [
  {
   "cell_type": "code",
   "execution_count": 4,
   "metadata": {},
   "outputs": [
    {
     "name": "stderr",
     "output_type": "stream",
     "text": [
      "C:\\Users\\User\\AppData\\Local\\Temp\\ipykernel_13296\\3517079211.py:4: DtypeWarning: Columns (6) have mixed types. Specify dtype option on import or set low_memory=False.\n",
      "  df = pd.read_csv(ruta_dataset)\n"
     ]
    }
   ],
   "source": [
    "import pandas as pd\n",
    "\n",
    "ruta_dataset = \"./movies_dataset.csv\"\n",
    "df = pd.read_csv(ruta_dataset)"
   ]
  },
  {
   "cell_type": "code",
   "execution_count": 5,
   "metadata": {},
   "outputs": [
    {
     "name": "stdout",
     "output_type": "stream",
     "text": [
      "                               belongs_to_collection      budget  \\\n",
      "0  {'id': 10194, 'name': 'Toy Story Collection', ...  30000000.0   \n",
      "1                                                NaN  65000000.0   \n",
      "2  {'id': 119050, 'name': 'Grumpy Old Men Collect...         0.0   \n",
      "3                                                NaN  16000000.0   \n",
      "4  {'id': 96871, 'name': 'Father of the Bride Col...         0.0   \n",
      "\n",
      "                                              genres     id original_language  \\\n",
      "0  [{'id': 16, 'name': 'Animation'}, {'id': 35, '...    862                en   \n",
      "1  [{'id': 12, 'name': 'Adventure'}, {'id': 14, '...   8844                en   \n",
      "2  [{'id': 10749, 'name': 'Romance'}, {'id': 35, ...  15602                en   \n",
      "3  [{'id': 35, 'name': 'Comedy'}, {'id': 18, 'nam...  31357                en   \n",
      "4                     [{'id': 35, 'name': 'Comedy'}]  11862                en   \n",
      "\n",
      "                                            overview popularity  \\\n",
      "0  Led by Woody, Andy's toys live happily in his ...  21.946943   \n",
      "1  When siblings Judy and Peter discover an encha...  17.015539   \n",
      "2  A family wedding reignites the ancient feud be...    11.7129   \n",
      "3  Cheated on, mistreated and stepped on, the wom...   3.859495   \n",
      "4  Just when George Banks has recovered from his ...   8.387519   \n",
      "\n",
      "                                production_companies  \\\n",
      "0     [{'name': 'Pixar Animation Studios', 'id': 3}]   \n",
      "1  [{'name': 'TriStar Pictures', 'id': 559}, {'na...   \n",
      "2  [{'name': 'Warner Bros.', 'id': 6194}, {'name'...   \n",
      "3  [{'name': 'Twentieth Century Fox Film Corporat...   \n",
      "4  [{'name': 'Sandollar Productions', 'id': 5842}...   \n",
      "\n",
      "                                production_countries release_date  \\\n",
      "0  [{'iso_3166_1': 'US', 'name': 'United States o...   1995-10-30   \n",
      "1  [{'iso_3166_1': 'US', 'name': 'United States o...   1995-12-15   \n",
      "2  [{'iso_3166_1': 'US', 'name': 'United States o...   1995-12-22   \n",
      "3  [{'iso_3166_1': 'US', 'name': 'United States o...   1995-12-22   \n",
      "4  [{'iso_3166_1': 'US', 'name': 'United States o...   1995-02-10   \n",
      "\n",
      "       revenue  runtime                                   spoken_languages  \\\n",
      "0  373554033.0     81.0           [{'iso_639_1': 'en', 'name': 'English'}]   \n",
      "1  262797249.0    104.0  [{'iso_639_1': 'en', 'name': 'English'}, {'iso...   \n",
      "2          0.0    101.0           [{'iso_639_1': 'en', 'name': 'English'}]   \n",
      "3   81452156.0    127.0           [{'iso_639_1': 'en', 'name': 'English'}]   \n",
      "4   76578911.0    106.0           [{'iso_639_1': 'en', 'name': 'English'}]   \n",
      "\n",
      "     status                                            tagline  \\\n",
      "0  Released                                                NaN   \n",
      "1  Released          Roll the dice and unleash the excitement!   \n",
      "2  Released  Still Yelling. Still Fighting. Still Ready for...   \n",
      "3  Released  Friends are the people who let you be yourself...   \n",
      "4  Released  Just When His World Is Back To Normal... He's ...   \n",
      "\n",
      "                         title  vote_average  vote_count     return  \\\n",
      "0                    Toy Story           7.7      5415.0  12.451801   \n",
      "1                      Jumanji           6.9      2413.0   4.043035   \n",
      "2             Grumpier Old Men           6.5        92.0   0.000000   \n",
      "3            Waiting to Exhale           6.1        34.0   5.090760   \n",
      "4  Father of the Bride Part II           5.7       173.0   0.000000   \n",
      "\n",
      "   release_year  \n",
      "0        1995.0  \n",
      "1        1995.0  \n",
      "2        1995.0  \n",
      "3        1995.0  \n",
      "4        1995.0  \n"
     ]
    }
   ],
   "source": [
    "print(df.head())"
   ]
  },
  {
   "cell_type": "code",
   "execution_count": 13,
   "metadata": {},
   "outputs": [
    {
     "name": "stdout",
     "output_type": "stream",
     "text": [
      "<class 'pandas.core.frame.DataFrame'>\n",
      "RangeIndex: 45379 entries, 0 to 45378\n",
      "Data columns (total 24 columns):\n",
      " #   Column                    Non-Null Count  Dtype  \n",
      "---  ------                    --------------  -----  \n",
      " 0   belongs_to_collection     4491 non-null   object \n",
      " 1   budget                    45379 non-null  float64\n",
      " 2   genres                    45379 non-null  object \n",
      " 3   id                        45379 non-null  object \n",
      " 4   original_language         45368 non-null  object \n",
      " 5   overview                  44438 non-null  object \n",
      " 6   popularity                45377 non-null  object \n",
      " 7   production_companies      45379 non-null  object \n",
      " 8   production_countries      45379 non-null  object \n",
      " 9   release_date              45376 non-null  object \n",
      " 10  revenue                   45379 non-null  float64\n",
      " 11  runtime                   45130 non-null  float64\n",
      " 12  spoken_languages          45376 non-null  object \n",
      " 13  status                    45296 non-null  object \n",
      " 14  tagline                   20398 non-null  object \n",
      " 15  title                     45376 non-null  object \n",
      " 16  vote_average              45376 non-null  float64\n",
      " 17  vote_count                45376 non-null  float64\n",
      " 18  return                    45379 non-null  float64\n",
      " 19  release_year              45376 non-null  float64\n",
      " 20  collection_id             4488 non-null   float64\n",
      " 21  collection_name           4488 non-null   object \n",
      " 22  production_company_names  45376 non-null  object \n",
      " 23  genre_names               45379 non-null  object \n",
      "dtypes: float64(8), object(16)\n",
      "memory usage: 8.3+ MB\n",
      "None\n"
     ]
    }
   ],
   "source": [
    "print(df.info())"
   ]
  },
  {
   "cell_type": "code",
   "execution_count": 14,
   "metadata": {},
   "outputs": [
    {
     "name": "stdout",
     "output_type": "stream",
     "text": [
      "(45466, 18)\n"
     ]
    }
   ],
   "source": [
    "print(df.shape)"
   ]
  },
  {
   "cell_type": "code",
   "execution_count": 9,
   "metadata": {},
   "outputs": [],
   "source": [
    "#eliminacion columnas solicitadas\n",
    "columnas_a_eliminar = ['video', 'imdb_id', 'adult', 'original_title', 'poster_path', 'homepage']\n",
    "df = df.drop(columns=columnas_a_eliminar)"
   ]
  },
  {
   "cell_type": "code",
   "execution_count": 9,
   "metadata": {},
   "outputs": [
    {
     "name": "stdout",
     "output_type": "stream",
     "text": [
      "Index(['belongs_to_collection', 'budget', 'genres', 'id', 'original_language',\n",
      "       'overview', 'popularity', 'production_companies',\n",
      "       'production_countries', 'release_date', 'revenue', 'runtime',\n",
      "       'spoken_languages', 'status', 'tagline', 'title', 'vote_average',\n",
      "       'vote_count', 'return', 'release_year', 'collection_id',\n",
      "       'collection_name'],\n",
      "      dtype='object')\n"
     ]
    }
   ],
   "source": [
    "print(df.columns)"
   ]
  },
  {
   "cell_type": "code",
   "execution_count": 23,
   "metadata": {},
   "outputs": [],
   "source": [
    "#rellenar con 0 en las columnas solicitadas\n",
    "df[['revenue', 'budget']] = df[['revenue', 'budget']].fillna(0)"
   ]
  },
  {
   "cell_type": "code",
   "execution_count": 24,
   "metadata": {},
   "outputs": [
    {
     "name": "stdout",
     "output_type": "stream",
     "text": [
      "revenue    0\n",
      "budget     0\n",
      "dtype: int64\n"
     ]
    }
   ],
   "source": [
    "print(df[['revenue', 'budget']].isnull().sum())"
   ]
  },
  {
   "cell_type": "code",
   "execution_count": 16,
   "metadata": {},
   "outputs": [],
   "source": [
    "#eliminacion de valores nulos de la columna solicitada\n",
    "df = df.dropna(subset=['release_date'])"
   ]
  },
  {
   "cell_type": "code",
   "execution_count": 17,
   "metadata": {},
   "outputs": [
    {
     "name": "stdout",
     "output_type": "stream",
     "text": [
      "0\n"
     ]
    }
   ],
   "source": [
    "print(df['release_date'].isnull().sum())"
   ]
  },
  {
   "cell_type": "code",
   "execution_count": 22,
   "metadata": {},
   "outputs": [],
   "source": [
    "# Convertir las columnas 'revenue' y 'budget' a numérico (reemplazando valores no válidos por NaN)\n",
    "df['revenue'] = pd.to_numeric(df['revenue'], errors='coerce')\n",
    "df['budget'] = pd.to_numeric(df['budget'], errors='coerce')"
   ]
  },
  {
   "cell_type": "code",
   "execution_count": 25,
   "metadata": {},
   "outputs": [],
   "source": [
    "#creacion de la columna solicitada\n",
    "df['return'] = df.apply(lambda row: row['revenue'] / row['budget'] \n",
    "                        if row['budget'] > 0 else 0, axis=1)"
   ]
  },
  {
   "cell_type": "code",
   "execution_count": 26,
   "metadata": {},
   "outputs": [
    {
     "name": "stdout",
     "output_type": "stream",
     "text": [
      "       revenue      budget     return\n",
      "0  373554033.0  30000000.0  12.451801\n",
      "1  262797249.0  65000000.0   4.043035\n",
      "2          0.0         0.0   0.000000\n",
      "3   81452156.0  16000000.0   5.090760\n",
      "4   76578911.0         0.0   0.000000\n"
     ]
    }
   ],
   "source": [
    "# Verificar los resultados\n",
    "print(df[['revenue', 'budget', 'return']].head())"
   ]
  },
  {
   "cell_type": "code",
   "execution_count": 28,
   "metadata": {},
   "outputs": [
    {
     "name": "stdout",
     "output_type": "stream",
     "text": [
      "  release_date  release_year\n",
      "0   1995-10-30        1995.0\n",
      "1   1995-12-15        1995.0\n",
      "2   1995-12-22        1995.0\n",
      "3   1995-12-22        1995.0\n",
      "4   1995-02-10        1995.0\n"
     ]
    }
   ],
   "source": [
    "# Asegurarse de que la columna 'release_date' esté en formato de fecha (AAAA-mm-dd)\n",
    "df['release_date'] = pd.to_datetime(df['release_date'], errors='coerce')\n",
    "\n",
    "# Eliminar valores nulos en 'release_date' (fechas no válidas)\n",
    "#df = df.dropna(subset=['release_date'])\n",
    "\n",
    "# Crear la columna 'release_year' extrayendo el año de la fecha de estreno\n",
    "df['release_year'] = df['release_date'].dt.year\n",
    "\n",
    "# Verificar los resultados\n",
    "print(df[['release_date', 'release_year']].head())"
   ]
  },
  {
   "cell_type": "code",
   "execution_count": 8,
   "metadata": {},
   "outputs": [],
   "source": [
    "#desanidar columna belongs_to_collection\n",
    "import ast\n",
    "def extract_collection_info(row):\n",
    "    \n",
    "    if pd.isna(row):\n",
    "        return None, None\n",
    "    try:\n",
    "        collection = ast.literal_eval(row) if isinstance(row, str) else row\n",
    "        if isinstance(collection, dict):\n",
    "            return collection.get('id'), collection.get('name')\n",
    "    except (ValueError, SyntaxError):\n",
    "        return None, None\n",
    "\n",
    "# Aplicar la función\n",
    "df[['collection_id', 'collection_name']] = df['belongs_to_collection'].apply(\n",
    "    extract_collection_info).apply(pd.Series)\n"
   ]
  },
  {
   "cell_type": "code",
   "execution_count": 11,
   "metadata": {},
   "outputs": [],
   "source": [
    "#desanidar columna production_companies\n",
    "def extract_company_names(row):\n",
    "    if pd.isna(row):\n",
    "        return None\n",
    "    try:\n",
    "        companies = ast.literal_eval(row) if isinstance(row, str) else row\n",
    "        if isinstance(companies, list):\n",
    "            return [company.get('name') for company in companies if isinstance(company, dict) and 'name' in company]\n",
    "    except (ValueError, SyntaxError):\n",
    "        return None\n",
    "\n",
    "# Aplicar la función\n",
    "df['production_company_names'] = df['production_companies'].apply(extract_company_names)\n"
   ]
  },
  {
   "cell_type": "code",
   "execution_count": 12,
   "metadata": {},
   "outputs": [],
   "source": [
    "#desanidar columna genres\n",
    "def extract_genre_names(row):\n",
    "    if pd.isna(row):\n",
    "        return None\n",
    "    try:\n",
    "        genres = ast.literal_eval(row) if isinstance(row, str) else row\n",
    "        if isinstance(genres, list):\n",
    "            return [genre.get('name') for genre in genres if isinstance(genre, dict) and 'name' in genre]\n",
    "    except (ValueError, SyntaxError):\n",
    "        return None\n",
    "\n",
    "# Aplicar la función a la columna 'genres'\n",
    "df['genre_names'] = df['genres'].apply(extract_genre_names)\n"
   ]
  },
  {
   "cell_type": "code",
   "execution_count": 14,
   "metadata": {},
   "outputs": [
    {
     "name": "stdout",
     "output_type": "stream",
     "text": [
      "Archivo CSV guardado exitosamente como 'movies_dataset_final.csv'.\n"
     ]
    }
   ],
   "source": [
    "# Guardar el DataFrame en un archivo CSV\n",
    "df.to_csv(\"movies_dataset_final.csv\", index=False)\n",
    "\n",
    "print(\"Archivo CSV guardado exitosamente como 'movies_dataset_final.csv'.\")"
   ]
  }
 ],
 "metadata": {
  "kernelspec": {
   "display_name": "Python 3",
   "language": "python",
   "name": "python3"
  },
  "language_info": {
   "codemirror_mode": {
    "name": "ipython",
    "version": 3
   },
   "file_extension": ".py",
   "mimetype": "text/x-python",
   "name": "python",
   "nbconvert_exporter": "python",
   "pygments_lexer": "ipython3",
   "version": "3.12.3"
  }
 },
 "nbformat": 4,
 "nbformat_minor": 2
}
